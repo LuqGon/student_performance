{
 "cells": [
  {
   "cell_type": "code",
   "execution_count": null,
   "id": "77228c84",
   "metadata": {},
   "outputs": [],
   "source": [
    "import pandas as pd\n",
    "import matplotlib.pyplot as plt\n",
    "%matplotlib inline\n",
    "import seaborn as sns"
   ]
  },
  {
   "cell_type": "code",
   "execution_count": null,
   "id": "e1b4a150",
   "metadata": {},
   "outputs": [],
   "source": [
    "archivo = \"./StudentPerformanceFactors.csv\"\n",
    "student_performance = pd.read_csv(archivo)\n",
    "student_performance.shape"
   ]
  },
  {
   "cell_type": "code",
   "execution_count": null,
   "id": "902be87e",
   "metadata": {},
   "outputs": [],
   "source": [
    "student_performance.head()"
   ]
  },
  {
   "cell_type": "code",
   "execution_count": null,
   "id": "f3bb950d",
   "metadata": {},
   "outputs": [],
   "source": [
    "student_performance.info()"
   ]
  },
  {
   "cell_type": "code",
   "execution_count": null,
   "id": "7db5462c",
   "metadata": {},
   "outputs": [],
   "source": [
    "student_performance.describe()"
   ]
  },
  {
   "cell_type": "markdown",
   "id": "afe2f0a3",
   "metadata": {},
   "source": [
    "## 🔍 Variables con Datos Faltantes\n",
    "\n",
    "Las siguientes variables contienen datos faltantes:\n",
    "- **Distance_from_Home**\n",
    "- **Parental_Education_Level**\n",
    "- **Teacher_Quality**\n",
    "\n",
    "> También se observa que la variable **Exam_Score** tiene un valor inusual de 101. Se procederá a realizar una limpieza de estos datos."
   ]
  },
  {
   "cell_type": "code",
   "execution_count": null,
   "id": "7c5905c7",
   "metadata": {},
   "outputs": [],
   "source": [
    "print(student_performance[\"Distance_from_Home\"].value_counts(dropna=False),\"\\n\")\n",
    "print(student_performance[\"Parental_Education_Level\"].value_counts(dropna=False),\"\\n\")\n",
    "print(student_performance[\"Teacher_Quality\"].value_counts(dropna=False))"
   ]
  },
  {
   "cell_type": "code",
   "execution_count": null,
   "id": "6302bed8",
   "metadata": {},
   "outputs": [],
   "source": [
    "student_performance[\"Teacher_Quality\"] = student_performance[\"Teacher_Quality\"].fillna(\"Medium\")\n",
    "student_performance[\"Parental_Education_Level\"] = student_performance[\"Parental_Education_Level\"].fillna(\"High School\")\n",
    "student_performance[\"Distance_from_Home\"] = student_performance[\"Distance_from_Home\"].fillna(\"Moderate\")\n",
    "student_performance[\"Exam_Score\"] = student_performance[\"Exam_Score\"].replace(101,100)"
   ]
  },
  {
   "cell_type": "code",
   "execution_count": null,
   "id": "f14f949c",
   "metadata": {},
   "outputs": [],
   "source": [
    "student_performance.head()"
   ]
  },
  {
   "cell_type": "markdown",
   "id": "d237cb0a",
   "metadata": {},
   "source": [
    "## 📊 Hipótesis #1\n",
    "\n",
    "**Si la calidad del profesor es alta, la nota promedio de los alumnos aumentará.**"
   ]
  },
  {
   "cell_type": "code",
   "execution_count": null,
   "id": "bf4e2a91",
   "metadata": {},
   "outputs": [],
   "source": [
    "plt.figure(figsize=(8,6))\n",
    "ax = sns.barplot(data=student_performance, x=\"Teacher_Quality\", y=\"Exam_Score\",estimator=\"mean\", errorbar=None ,color=\"green\",edgecolor=\"black\")\n",
    "for bar in ax.patches:\n",
    "    ax.annotate(text=int(bar.get_height()),xy=(bar.get_x() + bar.get_width()/2, bar.get_height()),ha=\"center\",va=\"bottom\",fontsize=10,color=\"black\")\n",
    "plt.title(\"Promedio de notas segun la calidad del profesor\")\n",
    "plt.ylabel(\"Nota promedio\")\n",
    "plt.grid(linestyle=\"--\",alpha=0.30)\n",
    "\n",
    "plt.show()"
   ]
  },
  {
   "cell_type": "markdown",
   "id": "6084b6d8",
   "metadata": {},
   "source": [
    "### 📌 Conclusión\n",
    "\n",
    "Se concluye que la nota no se ve influenciada por la calidad del profesor."
   ]
  },
  {
   "cell_type": "markdown",
   "id": "4ea179e7",
   "metadata": {},
   "source": [
    "## 📊 Hipótesis #2\n",
    "\n",
    "**A mayor cantidad de horas de estudio semanales, mayor será la nota promedio en los exámenes.**"
   ]
  },
  {
   "cell_type": "code",
   "execution_count": null,
   "id": "4a77a5d6",
   "metadata": {},
   "outputs": [],
   "source": [
    "correlacion = student_performance[\"Exam_Score\"].corr(student_performance[\"Hours_Studied\"])\n",
    "print(f\"Correlacion entre la nota del examen y horas de estudio semanal: {correlacion:.2f}\")\n",
    "sns.scatterplot(data=student_performance,x=\"Hours_Studied\",y=\"Exam_Score\",alpha=0.7, color=\"green\")\n",
    "sns.regplot(data=student_performance,x=\"Hours_Studied\",y=\"Exam_Score\",scatter=False, color=\"red\" )\n",
    "plt.xlabel(\"Horas de estudio por semana\")\n",
    "plt.ylabel(\"Notas de examen\")\n",
    "plt.show()"
   ]
  },
  {
   "cell_type": "markdown",
   "id": "c7609ea2",
   "metadata": {},
   "source": [
    "### 📌 Conclusión\n",
    "\n",
    "Existe una correlación moderada positiva entre las horas de estudio semanales y la nota del examen. Por lo tanto, se puede concluir que las horas de estudio semanales influyen moderadamente en la nota."
   ]
  },
  {
   "cell_type": "markdown",
   "id": "def2dd6c",
   "metadata": {},
   "source": [
    "## 📊 Hipótesis #3\n",
    "\n",
    "**Los alumnos que asisten más a clases tienen mejores notas.**"
   ]
  },
  {
   "cell_type": "code",
   "execution_count": null,
   "id": "c9fa7d06",
   "metadata": {},
   "outputs": [],
   "source": [
    "correlacion = student_performance[\"Exam_Score\"].corr(student_performance[\"Attendance\"])\n",
    "print(f\"Correlacion entre la nota de examen y el porcentaje de asistencia: {correlacion:.2f}\")\n",
    "sns.scatterplot(data=student_performance,x=\"Attendance\",y=\"Exam_Score\",alpha=0.7, color=\"green\")\n",
    "sns.regplot(data=student_performance,x=\"Attendance\",y=\"Exam_Score\",scatter=False, color=\"red\" )\n",
    "plt.xlabel(\"Porcentaje de asistencia\")\n",
    "plt.ylabel(\"Notas de examen\")\n",
    "plt.show() "
   ]
  },
  {
   "cell_type": "markdown",
   "id": "958884fb",
   "metadata": {},
   "source": [
    "### 📌 Conclusión\n",
    "\n",
    "Existe una correlación moderada positiva entre el porcentaje de asistencia y la nota. Por lo tanto, se puede concluir que la asistencia a clases influye moderadamente en la nota."
   ]
  },
  {
   "cell_type": "markdown",
   "id": "0b6134af",
   "metadata": {},
   "source": [
    "## 📊 Hipótesis #4\n",
    "\n",
    "**Los estudiantes con acceso a recursos educativos tienen mejores notas promedio.**"
   ]
  },
  {
   "cell_type": "code",
   "execution_count": null,
   "id": "1a333f11",
   "metadata": {},
   "outputs": [],
   "source": [
    "plt.figure(figsize=(8,6))\n",
    "ax = sns.barplot(data=student_performance, x=\"Access_to_Resources\", y=\"Exam_Score\", estimator=\"mean\", errorbar=None, color=\"green\", edgecolor=\"black\")\n",
    "for bar in ax.patches:\n",
    "    ax.annotate(text=int(bar.get_height()), xy=(bar.get_x() + bar.get_width()/2, bar.get_height()), ha=\"center\", va=\"bottom\", fontsize=10, color=\"black\")\n",
    "plt.title(\"Promedio de notas según el acceso a recursos educativos\")\n",
    "plt.ylabel(\"Nota promedio\")\n",
    "plt.xlabel(\"Acceso a recursos educativos\")\n",
    "plt.grid(linestyle=\"--\", alpha=0.30)\n",
    "plt.show()"
   ]
  },
  {
   "cell_type": "markdown",
   "id": "52bcdade",
   "metadata": {},
   "source": [
    "### 📌 Conclusión\n",
    "\n",
    "Se llega a la conclusión de que el acceso a recursos educativos no parece tener un impacto significativo en el promedio de las notas de los estudiantes."
   ]
  },
  {
   "cell_type": "markdown",
   "id": "7fa7ebf2",
   "metadata": {},
   "source": [
    "## 📊 Hipótesis #5\n",
    "\n",
    "**Los alumnos en escuelas privadas tienen notas promedio más altas que los alumnos de escuelas públicas.**"
   ]
  },
  {
   "cell_type": "code",
   "execution_count": 1,
   "id": "923d2af7",
   "metadata": {},
   "outputs": [
    {
     "ename": "NameError",
     "evalue": "name 'plt' is not defined",
     "output_type": "error",
     "traceback": [
      "\u001b[31m---------------------------------------------------------------------------\u001b[39m",
      "\u001b[31mNameError\u001b[39m                                 Traceback (most recent call last)",
      "\u001b[36mCell\u001b[39m\u001b[36m \u001b[39m\u001b[32mIn[1]\u001b[39m\u001b[32m, line 1\u001b[39m\n\u001b[32m----> \u001b[39m\u001b[32m1\u001b[39m \u001b[43mplt\u001b[49m.figure(figsize=(\u001b[32m8\u001b[39m,\u001b[32m6\u001b[39m))\n\u001b[32m      2\u001b[39m ax = sns.barplot(data=student_performance, x=\u001b[33m\"\u001b[39m\u001b[33mSchool_Type\u001b[39m\u001b[33m\"\u001b[39m, y=\u001b[33m\"\u001b[39m\u001b[33mExam_Score\u001b[39m\u001b[33m\"\u001b[39m,estimator=\u001b[33m\"\u001b[39m\u001b[33mmean\u001b[39m\u001b[33m\"\u001b[39m, errorbar=\u001b[38;5;28;01mNone\u001b[39;00m ,color=\u001b[33m\"\u001b[39m\u001b[33mgreen\u001b[39m\u001b[33m\"\u001b[39m,edgecolor=\u001b[33m\"\u001b[39m\u001b[33mblack\u001b[39m\u001b[33m\"\u001b[39m)\n\u001b[32m      3\u001b[39m \u001b[38;5;28;01mfor\u001b[39;00m bar \u001b[38;5;129;01min\u001b[39;00m ax.patches:\n",
      "\u001b[31mNameError\u001b[39m: name 'plt' is not defined"
     ]
    }
   ],
   "source": [
    "plt.figure(figsize=(8,6))\n",
    "ax = sns.barplot(data=student_performance, x=\"School_Type\", y=\"Exam_Score\",estimator=\"mean\", errorbar=None ,color=\"green\",edgecolor=\"black\")\n",
    "for bar in ax.patches:\n",
    "    ax.annotate(text=int(bar.get_height()),xy=(bar.get_x() + bar.get_width()/2, bar.get_height()),ha=\"center\",va=\"bottom\",fontsize=10,color=\"black\")\n",
    "plt.title(\"Promedio de notas segun el tipo de escuela\")\n",
    "plt.ylabel(\"Nota promedio\")\n",
    "plt.grid(linestyle=\"--\",alpha=0.30)\n",
    "plt.show()"
   ]
  },
  {
   "cell_type": "code",
   "execution_count": null,
   "id": "c458eca4",
   "metadata": {},
   "outputs": [],
   "source": [
    "plt.figure(figsize=(8,6))\n",
    "sns.boxplot(data=student_performance, x=\"Exam_Score\", y=\"School_Type\",color=\"green\",linewidth=1.2)\n",
    "plt.xlabel(\"Notas de examen\")\n",
    "plt.ylabel(\"Tipo de escuela\")\n",
    "plt.show()"
   ]
  },
  {
   "cell_type": "code",
   "execution_count": null,
   "id": "e8893218",
   "metadata": {},
   "outputs": [],
   "source": [
    "print(\"Estadisticas de las notas de las escuelas publicas\")\n",
    "print(student_performance.loc[student_performance[\"School_Type\"] == \"Public\"][\"Exam_Score\"].describe())\n",
    "print(\"Estadisticas de las notas de las escuelas privadas\")\n",
    "print(student_performance.loc[student_performance[\"School_Type\"] == \"Private\"][\"Exam_Score\"].describe())"
   ]
  },
  {
   "cell_type": "markdown",
   "id": "4210108d",
   "metadata": {},
   "source": [
    "### 📌 Conclusión\n",
    "\n",
    "Se observa que:\n",
    "\n",
    "1. La nota promedio de los estudiantes de escuelas privadas y públicas es prácticamente la misma.\n",
    "2. Las notas de las escuelas privadas están levemente más dispersas que las de las escuelas públicas.\n",
    "3. Tanto las escuelas públicas como privadas tienen valores atípicos.\n",
    "\n",
    "Por lo tanto, según lo analizado, el tipo de escuela no influye significativamente en la nota obtenida."
   ]
  },
  {
   "cell_type": "code",
   "execution_count": null,
   "id": "498c1007",
   "metadata": {},
   "outputs": [],
   "source": [
    "from scipy import stats\n",
    "iqr = stats.iqr(student_performance[\"Exam_Score\"])"
   ]
  },
  {
   "cell_type": "code",
   "execution_count": null,
   "id": "c9ee988d",
   "metadata": {},
   "outputs": [],
   "source": [
    "plt.figure(figsize=(8,6))\n",
    "sns.boxplot(data=student_performance, x=\"Exam_Score\",color=\"green\",linewidth=1.2)\n",
    "plt.xlabel(\"Notas de examen\")\n",
    "plt.ylabel(\"Tipo de escuela\")\n",
    "plt.show()"
   ]
  },
  {
   "cell_type": "code",
   "execution_count": null,
   "id": "464dd0c3",
   "metadata": {},
   "outputs": [],
   "source": [
    "student_performance[\"Exam_Score\"].describe()"
   ]
  },
  {
   "cell_type": "code",
   "execution_count": null,
   "id": "33d351bc",
   "metadata": {},
   "outputs": [],
   "source": [
    "limite_inferior = 65 - 1.5*iqr\n",
    "limite_superior = 69 + 1.5*iqr\n"
   ]
  },
  {
   "cell_type": "code",
   "execution_count": null,
   "id": "9c4d3f2c",
   "metadata": {},
   "outputs": [],
   "source": [
    "# Voy a analizar los outliers\n",
    "print(f\"Limite inferior: {limite_inferior}\")\n",
    "student_performance.loc[student_performance[\"Exam_Score\"] < limite_inferior].describe()"
   ]
  },
  {
   "cell_type": "code",
   "execution_count": null,
   "id": "83fa5eaf",
   "metadata": {},
   "outputs": [],
   "source": [
    "print(f\"Limite inferior: {limite_superior}\")\n",
    "student_performance.loc[student_performance[\"Exam_Score\"] < limite_superior].describe()"
   ]
  },
  {
   "cell_type": "code",
   "execution_count": null,
   "id": "0f7a7de1",
   "metadata": {},
   "outputs": [],
   "source": []
  }
 ],
 "metadata": {
  "kernelspec": {
   "display_name": ".envch",
   "language": "python",
   "name": "python3"
  },
  "language_info": {
   "codemirror_mode": {
    "name": "ipython",
    "version": 3
   },
   "file_extension": ".py",
   "mimetype": "text/x-python",
   "name": "python",
   "nbconvert_exporter": "python",
   "pygments_lexer": "ipython3",
   "version": "3.11.2"
  }
 },
 "nbformat": 4,
 "nbformat_minor": 5
}
